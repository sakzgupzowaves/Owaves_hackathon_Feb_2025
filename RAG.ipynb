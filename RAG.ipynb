{
 "cells": [
  {
   "cell_type": "code",
   "execution_count": 17,
   "id": "5c3c3b78-f402-4573-b53f-38d552e53fef",
   "metadata": {},
   "outputs": [
    {
     "name": "stderr",
     "output_type": "stream",
     "text": [
      "/var/folders/ll/v_87q26d7dbcrflbhz8c6jww0000gn/T/ipykernel_25217/409767057.py:4: LangChainDeprecationWarning: The class `Ollama` was deprecated in LangChain 0.3.1 and will be removed in 1.0.0. An updated version of the class exists in the :class:`~langchain-ollama package and should be used instead. To use it run `pip install -U :class:`~langchain-ollama` and import as `from :class:`~langchain_ollama import OllamaLLM``.\n",
      "  llm = Ollama(model=\"llama2\")\n",
      "/var/folders/ll/v_87q26d7dbcrflbhz8c6jww0000gn/T/ipykernel_25217/409767057.py:10: LangChainDeprecationWarning: The method `BaseLLM.__call__` was deprecated in langchain-core 0.1.7 and will be removed in 1.0. Use :meth:`~invoke` instead.\n",
      "  response = llm(prompt)\n"
     ]
    },
    {
     "name": "stdout",
     "output_type": "stream",
     "text": [
      "\n",
      "Artificial Intelligence (AI) is a field of computer science that focuses on creating intelligent machines capable of performing tasks that would normally require human intelligence, such as understanding language, recognizing images, making decisions, and solving problems. In other words, AI is about building machines that can think and act like humans.\n",
      "\n",
      "There are several types of AI, including:\n",
      "\n",
      "1. Narrow or weak AI: This type of AI is designed to perform a specific task, such as playing chess, recognizing faces, or translating languages. Narrow AI is the most common type of AI and is used in many applications, such as virtual assistants, self-driving cars, and recommendation systems.\n",
      "2. General or strong AI: This type of AI is designed to perform any intellectual task that a human can do. It is still a topic of research and development, but it has the potential to revolutionize many areas of life, including healthcare, education, and finance.\n",
      "3. Superintelligence: This type of AI is significantly more intelligent than the best human minds. It could solve complex problems that are currently unsolvable or improve existing technologies beyond human capabilities. However, it also raises concerns about safety, control, and ethics.\n",
      "\n",
      "The key elements of AI include:\n",
      "\n",
      "1. Machine learning: This is a technique that enables machines to learn from data without being explicitly programmed. It involves training algorithms on large datasets and using them to make predictions or decisions based on patterns in the data.\n",
      "2. Natural language processing (NLP): This is a field of AI that focuses on enabling machines to understand, interpret, and generate human language. NLP is used in applications such as chatbots, speech recognition, and language translation.\n",
      "3. Robotics: This involves the use of machines to perform tasks that typically require human intelligence, such as manipulation and movement of objects.\n",
      "4. Computer vision: This is a field of AI that focuses on enabling machines to interpret and understand visual data from the world around us, such as images and videos.\n",
      "5. Predictive analytics: This involves using statistical models and machine learning algorithms to make predictions about future events or outcomes based on past data.\n",
      "\n",
      "Overall, AI has the potential to transform many aspects of our lives, from healthcare and education to transportation and entertainment. However, it also raises important ethical and societal questions about the impact of technology on human life and work.\n"
     ]
    }
   ],
   "source": [
    "from langchain_community.llms import Ollama\n",
    "\n",
    "# Initialize the Ollama model\n",
    "llm = Ollama(model=\"llama2\")\n",
    "\n",
    "# Define a prompt\n",
    "prompt = \"Explain the concept of artificial intelligence in simple terms.\"\n",
    "\n",
    "# Generate a response\n",
    "response = llm(prompt)\n",
    "\n",
    "# Print the response\n",
    "print(response)"
   ]
  },
  {
   "cell_type": "code",
   "execution_count": null,
   "id": "fa07ea9b-12aa-47fb-b1d7-ca9e43109281",
   "metadata": {},
   "outputs": [],
   "source": []
  }
 ],
 "metadata": {
  "kernelspec": {
   "display_name": "Python 3 (ipykernel)",
   "language": "python",
   "name": "python3"
  },
  "language_info": {
   "codemirror_mode": {
    "name": "ipython",
    "version": 3
   },
   "file_extension": ".py",
   "mimetype": "text/x-python",
   "name": "python",
   "nbconvert_exporter": "python",
   "pygments_lexer": "ipython3",
   "version": "3.12.4"
  }
 },
 "nbformat": 4,
 "nbformat_minor": 5
}
