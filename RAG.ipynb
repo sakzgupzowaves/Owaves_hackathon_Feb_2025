{
 "cells": [
  {
   "cell_type": "code",
   "execution_count": 634,
   "id": "5c3c3b78-f402-4573-b53f-38d552e53fef",
   "metadata": {},
   "outputs": [],
   "source": [
    "import pandas as pd\n",
    "import json\n",
    "import re\n",
    "from langchain_community.llms import Ollama\n",
    "from langchain.prompts import PromptTemplate\n",
    "from langchain.chains import LLMChain\n",
    "from dateutil import parser"
   ]
  },
  {
   "cell_type": "code",
   "execution_count": 635,
   "id": "c24cb1de-eff7-40f7-9f8f-ad83381c52e0",
   "metadata": {},
   "outputs": [],
   "source": [
    "# Load the CSV data\n",
    "csv_file = '1c6d5.csv'  # Update this with your file path\n",
    "df = pd.read_csv(csv_file, encoding='latin1')\n"
   ]
  },
  {
   "cell_type": "code",
   "execution_count": 636,
   "id": "5c045436-3a55-4cb5-8b85-a8ac660f8be0",
   "metadata": {},
   "outputs": [],
   "source": [
    "df = df.dropna(subset=[\"startDateFull\", \"endDateFull\"])"
   ]
  },
  {
   "cell_type": "code",
   "execution_count": 637,
   "id": "66c1a86a-f0f1-45c8-9884-187e394db155",
   "metadata": {},
   "outputs": [],
   "source": [
    "# 🔹 Step 1: Ensure all date values are strings & strip whitespace\n",
    "df[\"startDateFull\"] = df[\"startDateFull\"].astype(str).str.strip()\n",
    "df[\"endDateFull\"] = df[\"endDateFull\"].astype(str).str.strip()"
   ]
  },
  {
   "cell_type": "code",
   "execution_count": 638,
   "id": "03440384-155b-46a9-bfb4-ba4f8742dc2d",
   "metadata": {},
   "outputs": [],
   "source": [
    "# 🔹 Step 1: Remove Non-Standard Characters (e.g., \"펝\" or any Unicode noise)\n",
    "df[\"startDateFull\"] = df[\"startDateFull\"].apply(lambda x: re.sub(r\"[^\\x00-\\x7F]+\", \"\", str(x)))\n",
    "df[\"endDateFull\"] = df[\"endDateFull\"].apply(lambda x: re.sub(r\"[^\\x00-\\x7F]+\", \"\", str(x)))"
   ]
  },
  {
   "cell_type": "code",
   "execution_count": 639,
   "id": "73cc3304-4e4e-4224-9014-368257a106ec",
   "metadata": {},
   "outputs": [
    {
     "name": "stdout",
     "output_type": "stream",
     "text": [
      "             startDateFull            endDateFull\n",
      "0    01/30/2025, 07:15:00   01/30/2025, 08:15:00 \n",
      "1    02/13/2025, 12:45:00   02/13/2025, 13:15:00 \n",
      "2    02/07/2025, 21:30:00   02/07/2025, 22:30:00 \n",
      "3    02/04/2025, 17:30:00   02/04/2025, 18:30:00 \n",
      "4    02/11/2025, 21:30:00   02/11/2025, 22:30:00 \n",
      "..                     ...                    ...\n",
      "452  01/19/2025, 11:00:00   01/19/2025, 12:00:00 \n",
      "453  02/04/2025, 12:45:00   02/04/2025, 13:15:00 \n",
      "454  02/01/2025, 12:45:00   02/01/2025, 13:15:00 \n",
      "455  01/31/2025, 20:00:00   01/31/2025, 21:30:00 \n",
      "456  02/10/2025, 13:15:00   02/10/2025, 17:30:00 \n",
      "\n",
      "[457 rows x 2 columns]\n"
     ]
    }
   ],
   "source": [
    "print(df[[\"startDateFull\", \"endDateFull\"]])"
   ]
  },
  {
   "cell_type": "code",
   "execution_count": 640,
   "id": "281e35ae-a5d4-4c05-a4fa-3a7b49bb7353",
   "metadata": {},
   "outputs": [],
   "source": [
    "# 🔹 Step 3: Convert to Time Objects (Extracting Only Time)\n",
    "def safe_parse_time(date_str):\n",
    "    try:\n",
    "        return parser.parse(date_str).time()  # Extract only time\n",
    "    except Exception:\n",
    "        return None  # Return None if parsing fails\n",
    "\n",
    "df[\"startTime\"] = df[\"startDateFull\"].apply(safe_parse_time)\n",
    "df[\"endTime\"] = df[\"endDateFull\"].apply(safe_parse_time)"
   ]
  },
  {
   "cell_type": "code",
   "execution_count": 641,
   "id": "711450c1-1635-4965-a249-26aa90db5549",
   "metadata": {},
   "outputs": [
    {
     "name": "stdout",
     "output_type": "stream",
     "text": [
      "    startTime   endTime\n",
      "0    07:15:00  08:15:00\n",
      "1    12:45:00  13:15:00\n",
      "2    21:30:00  22:30:00\n",
      "3    17:30:00  18:30:00\n",
      "4    21:30:00  22:30:00\n",
      "..        ...       ...\n",
      "452  11:00:00  12:00:00\n",
      "453  12:45:00  13:15:00\n",
      "454  12:45:00  13:15:00\n",
      "455  20:00:00  21:30:00\n",
      "456  13:15:00  17:30:00\n",
      "\n",
      "[457 rows x 2 columns]\n"
     ]
    }
   ],
   "source": [
    "print(df[[\"startTime\", \"endTime\"]])"
   ]
  },
  {
   "cell_type": "code",
   "execution_count": 642,
   "id": "dca52ea8-37cf-4b77-a10b-7ea4c649407b",
   "metadata": {},
   "outputs": [],
   "source": [
    "# 🔹 Step 4: Drop rows where time conversion failed\n",
    "df = df.dropna(subset=[\"startTime\", \"endTime\"])"
   ]
  },
  {
   "cell_type": "code",
   "execution_count": 643,
   "id": "c42b8fef-8fab-4ee6-9d66-ef1601c1b857",
   "metadata": {},
   "outputs": [],
   "source": [
    "# Keep only relevant columns\n",
    "df_cleaned = df[[\"title\", \"startTime\", \"endTime\"]]"
   ]
  },
  {
   "cell_type": "code",
   "execution_count": 644,
   "id": "50373a5a-6442-47a1-986b-984510f8e2a2",
   "metadata": {},
   "outputs": [
    {
     "name": "stdout",
     "output_type": "stream",
     "text": [
      "                 title startTime   endTime\n",
      "0           Meditation  07:15:00  08:15:00\n",
      "1                Lunch  12:45:00  13:15:00\n",
      "2                Books  21:30:00  22:30:00\n",
      "3           Meditation  17:30:00  18:30:00\n",
      "4                Books  21:30:00  22:30:00\n",
      "..                 ...       ...       ...\n",
      "452         Eat Greens  11:00:00  12:00:00\n",
      "453              Lunch  12:45:00  13:15:00\n",
      "454              Lunch  12:45:00  13:15:00\n",
      "455  Work and Meetings  20:00:00  21:30:00\n",
      "456        Patent Work  13:15:00  17:30:00\n",
      "\n",
      "[457 rows x 3 columns]\n"
     ]
    }
   ],
   "source": [
    "print(df_cleaned)"
   ]
  },
  {
   "cell_type": "code",
   "execution_count": 645,
   "id": "549b549d-cc41-44e7-aaf4-505753875d00",
   "metadata": {},
   "outputs": [
    {
     "name": "stderr",
     "output_type": "stream",
     "text": [
      "/var/folders/ll/v_87q26d7dbcrflbhz8c6jww0000gn/T/ipykernel_30450/3235095849.py:1: SettingWithCopyWarning: \n",
      "A value is trying to be set on a copy of a slice from a DataFrame.\n",
      "Try using .loc[row_indexer,col_indexer] = value instead\n",
      "\n",
      "See the caveats in the documentation: https://pandas.pydata.org/pandas-docs/stable/user_guide/indexing.html#returning-a-view-versus-a-copy\n",
      "  df_cleaned[\"startTime\"] = df_cleaned[\"startTime\"].astype(str)\n",
      "/var/folders/ll/v_87q26d7dbcrflbhz8c6jww0000gn/T/ipykernel_30450/3235095849.py:2: SettingWithCopyWarning: \n",
      "A value is trying to be set on a copy of a slice from a DataFrame.\n",
      "Try using .loc[row_indexer,col_indexer] = value instead\n",
      "\n",
      "See the caveats in the documentation: https://pandas.pydata.org/pandas-docs/stable/user_guide/indexing.html#returning-a-view-versus-a-copy\n",
      "  df_cleaned[\"endTime\"] = df_cleaned[\"endTime\"].astype(str)\n"
     ]
    }
   ],
   "source": [
    "df_cleaned[\"startTime\"] = df_cleaned[\"startTime\"].astype(str)\n",
    "df_cleaned[\"endTime\"] = df_cleaned[\"endTime\"].astype(str)\n",
    "# Convert cleaned data to JSON format for AI processing\n",
    "csv_data_json = df_cleaned.to_dict(orient=\"records\")"
   ]
  },
  {
   "cell_type": "code",
   "execution_count": 646,
   "id": "d2f0f606-7ada-4621-b8f9-dd2364c59afc",
   "metadata": {
    "scrolled": true
   },
   "outputs": [
    {
     "name": "stdout",
     "output_type": "stream",
     "text": [
      "[{'title': 'Meditation', 'startTime': '07:15:00', 'endTime': '08:15:00'}, {'title': 'Lunch', 'startTime': '12:45:00', 'endTime': '13:15:00'}, {'title': 'Books', 'startTime': '21:30:00', 'endTime': '22:30:00'}, {'title': 'Meditation', 'startTime': '17:30:00', 'endTime': '18:30:00'}, {'title': 'Books', 'startTime': '21:30:00', 'endTime': '22:30:00'}, {'title': 'Newspaper', 'startTime': '10:15:00', 'endTime': '10:30:00'}, {'title': 'Books', 'startTime': '21:30:00', 'endTime': '22:30:00'}, {'title': 'Blinkist', 'startTime': '12:30:00', 'endTime': '12:45:00'}, {'title': 'Wake Up', 'startTime': '07:00:00', 'endTime': '07:15:00'}, {'title': 'Patent Work', 'startTime': '13:15:00', 'endTime': '17:30:00'}, {'title': 'Sleep', 'startTime': '00:00:00', 'endTime': '07:00:00'}, {'title': 'Worship and Prayer', 'startTime': '08:45:00', 'endTime': '09:45:00'}, {'title': 'Meditation', 'startTime': '07:15:00', 'endTime': '08:15:00'}, {'title': 'Worship and Prayer', 'startTime': '08:45:00', 'endTime': '09:45:00'}, {'title': 'Meditation', 'startTime': '17:30:00', 'endTime': '18:30:00'}, {'title': 'Sleep', 'startTime': '00:00:00', 'endTime': '07:00:00'}, {'title': 'Meditation', 'startTime': '17:30:00', 'endTime': '18:30:00'}, {'title': 'Breakfast', 'startTime': '09:45:00', 'endTime': '10:15:00'}, {'title': 'Worship and Prayer', 'startTime': '08:45:00', 'endTime': '09:45:00'}, {'title': 'Sleep', 'startTime': '00:00:00', 'endTime': '07:00:00'}, {'title': 'Dinner', 'startTime': '19:30:00', 'endTime': '20:00:00'}, {'title': 'Lunch', 'startTime': '12:45:00', 'endTime': '13:15:00'}, {'title': 'Worship and Prayer', 'startTime': '08:45:00', 'endTime': '09:45:00'}, {'title': 'Meditation', 'startTime': '17:30:00', 'endTime': '18:30:00'}, {'title': 'Breakfast', 'startTime': '09:45:00', 'endTime': '10:15:00'}, {'title': 'Play', 'startTime': '18:30:00', 'endTime': '19:30:00'}, {'title': 'Startup Work', 'startTime': '10:30:00', 'endTime': '12:30:00'}, {'title': 'Newspaper', 'startTime': '10:15:00', 'endTime': '10:30:00'}, {'title': 'YSS Books', 'startTime': '08:15:00', 'endTime': '08:45:00'}, {'title': 'Books', 'startTime': '21:30:00', 'endTime': '22:30:00'}, {'title': 'Meditation', 'startTime': '07:15:00', 'endTime': '08:15:00'}, {'title': 'Startup Work', 'startTime': '10:30:00', 'endTime': '12:30:00'}, {'title': 'Dinner', 'startTime': '19:30:00', 'endTime': '20:00:00'}, {'title': 'Work and Meetings', 'startTime': '20:00:00', 'endTime': '21:30:00'}, {'title': 'Wake Up', 'startTime': '07:00:00', 'endTime': '07:15:00'}, {'title': 'Megha', 'startTime': '22:30:00', 'endTime': '00:00:00'}, {'title': 'Play', 'startTime': '18:30:00', 'endTime': '19:30:00'}, {'title': 'YSS Books', 'startTime': '08:15:00', 'endTime': '08:45:00'}, {'title': 'Megha', 'startTime': '22:30:00', 'endTime': '00:00:00'}, {'title': 'Megha', 'startTime': '22:30:00', 'endTime': '00:00:00'}, {'title': 'Dinner', 'startTime': '19:30:00', 'endTime': '20:00:00'}, {'title': 'Startup Work', 'startTime': '10:30:00', 'endTime': '12:30:00'}, {'title': 'Sleep', 'startTime': '00:00:00', 'endTime': '07:00:00'}, {'title': 'Wake Up', 'startTime': '07:00:00', 'endTime': '07:15:00'}, {'title': 'Sleep', 'startTime': '00:00:00', 'endTime': '07:00:00'}, {'title': 'Books', 'startTime': '21:30:00', 'endTime': '22:30:00'}, {'title': 'Work and Meetings', 'startTime': '20:00:00', 'endTime': '21:30:00'}, {'title': 'Worship and Prayer', 'startTime': '08:45:00', 'endTime': '09:45:00'}, {'title': 'Meditation', 'startTime': '07:15:00', 'endTime': '08:15:00'}, {'title': 'Sleep', 'startTime': '00:00:00', 'endTime': '07:00:00'}, {'title': 'Startup Work', 'startTime': '10:30:00', 'endTime': '12:30:00'}, {'title': 'Meditation', 'startTime': '07:15:00', 'endTime': '08:15:00'}, {'title': 'Wake Up', 'startTime': '07:00:00', 'endTime': '07:15:00'}, {'title': 'Blinkist', 'startTime': '12:30:00', 'endTime': '12:45:00'}, {'title': 'YSS Books', 'startTime': '08:15:00', 'endTime': '08:45:00'}, {'title': 'Blinkist', 'startTime': '12:30:00', 'endTime': '12:45:00'}, {'title': 'Blinkist', 'startTime': '12:30:00', 'endTime': '12:45:00'}, {'title': 'Sleep', 'startTime': '00:00:00', 'endTime': '07:00:00'}, {'title': 'Worship and Prayer', 'startTime': '08:45:00', 'endTime': '09:45:00'}, {'title': 'Megha', 'startTime': '22:30:00', 'endTime': '00:00:00'}, {'title': 'YSS Books', 'startTime': '08:15:00', 'endTime': '08:45:00'}, {'title': 'Megha', 'startTime': '22:30:00', 'endTime': '00:00:00'}, {'title': 'Dinner', 'startTime': '19:30:00', 'endTime': '20:00:00'}, {'title': 'Megha', 'startTime': '22:30:00', 'endTime': '00:00:00'}, {'title': 'Blinkist', 'startTime': '12:30:00', 'endTime': '12:45:00'}, {'title': 'Sleep', 'startTime': '00:00:00', 'endTime': '07:00:00'}, {'title': 'Books', 'startTime': '21:30:00', 'endTime': '22:30:00'}, {'title': 'Startup Work', 'startTime': '10:30:00', 'endTime': '12:30:00'}, {'title': 'Eat Greens', 'startTime': '15:00:00', 'endTime': '15:30:00'}, {'title': 'Startup Work', 'startTime': '10:30:00', 'endTime': '12:30:00'}, {'title': 'Books', 'startTime': '21:30:00', 'endTime': '22:30:00'}, {'title': 'Play', 'startTime': '18:30:00', 'endTime': '19:30:00'}, {'title': 'Sleep', 'startTime': '00:00:00', 'endTime': '07:00:00'}, {'title': 'Sleep', 'startTime': '00:00:00', 'endTime': '07:00:00'}, {'title': 'YSS Books', 'startTime': '08:15:00', 'endTime': '08:45:00'}, {'title': 'Blinkist', 'startTime': '12:30:00', 'endTime': '12:45:00'}, {'title': 'Move', 'startTime': '14:00:00', 'endTime': '15:00:00'}, {'title': 'Work and Meetings', 'startTime': '20:00:00', 'endTime': '21:30:00'}, {'title': 'Meditation', 'startTime': '07:15:00', 'endTime': '08:15:00'}, {'title': 'Megha', 'startTime': '22:30:00', 'endTime': '00:00:00'}, {'title': 'Dinner', 'startTime': '19:30:00', 'endTime': '20:00:00'}, {'title': 'Breakfast', 'startTime': '09:45:00', 'endTime': '10:15:00'}, {'title': 'Wake Up', 'startTime': '07:00:00', 'endTime': '07:15:00'}, {'title': 'Patent Work', 'startTime': '13:15:00', 'endTime': '17:30:00'}, {'title': 'Breakfast', 'startTime': '09:45:00', 'endTime': '10:15:00'}, {'title': 'Newspaper', 'startTime': '10:15:00', 'endTime': '10:30:00'}, {'title': 'Meditation', 'startTime': '07:15:00', 'endTime': '08:15:00'}, {'title': 'Startup Work', 'startTime': '10:30:00', 'endTime': '12:30:00'}, {'title': 'Blinkist', 'startTime': '12:30:00', 'endTime': '12:45:00'}, {'title': 'Lunch', 'startTime': '12:45:00', 'endTime': '13:15:00'}, {'title': 'Dinner', 'startTime': '19:30:00', 'endTime': '20:00:00'}, {'title': 'YSS Books', 'startTime': '08:15:00', 'endTime': '08:45:00'}, {'title': 'Worship and Prayer', 'startTime': '08:45:00', 'endTime': '09:45:00'}, {'title': 'Newspaper', 'startTime': '10:15:00', 'endTime': '10:30:00'}, {'title': 'Wake Up', 'startTime': '07:00:00', 'endTime': '07:15:00'}, {'title': 'Lunch', 'startTime': '12:45:00', 'endTime': '13:15:00'}, {'title': 'Wake Up', 'startTime': '07:00:00', 'endTime': '07:15:00'}, {'title': 'Books', 'startTime': '21:30:00', 'endTime': '22:30:00'}, {'title': 'Books', 'startTime': '21:30:00', 'endTime': '22:30:00'}, {'title': 'Sleep', 'startTime': '00:00:00', 'endTime': '07:00:00'}, {'title': 'Wake Up', 'startTime': '07:00:00', 'endTime': '07:15:00'}, {'title': 'Dreams', 'startTime': '21:00:00', 'endTime': '00:00:00'}, {'title': 'Blinkist', 'startTime': '12:30:00', 'endTime': '12:45:00'}, {'title': 'Meditation', 'startTime': '07:15:00', 'endTime': '08:15:00'}, {'title': 'Books', 'startTime': '21:30:00', 'endTime': '22:30:00'}, {'title': 'Megha', 'startTime': '22:30:00', 'endTime': '00:00:00'}, {'title': 'Breakfast', 'startTime': '09:45:00', 'endTime': '10:15:00'}, {'title': 'Play', 'startTime': '18:30:00', 'endTime': '19:30:00'}, {'title': 'YSS Books', 'startTime': '08:15:00', 'endTime': '08:45:00'}, {'title': 'Patent Work', 'startTime': '13:15:00', 'endTime': '17:30:00'}, {'title': 'Meditation', 'startTime': '07:15:00', 'endTime': '08:15:00'}, {'title': 'Newspaper', 'startTime': '10:15:00', 'endTime': '10:30:00'}, {'title': 'Books', 'startTime': '21:30:00', 'endTime': '22:30:00'}, {'title': 'Patent Work', 'startTime': '13:15:00', 'endTime': '17:30:00'}, {'title': 'Worship and Prayer', 'startTime': '08:45:00', 'endTime': '09:45:00'}, {'title': 'Wake Up', 'startTime': '07:00:00', 'endTime': '07:15:00'}, {'title': 'Play', 'startTime': '18:30:00', 'endTime': '19:30:00'}, {'title': 'Worship and Prayer', 'startTime': '08:45:00', 'endTime': '09:45:00'}, {'title': 'Play', 'startTime': '18:30:00', 'endTime': '19:30:00'}, {'title': 'Work and Meetings', 'startTime': '20:00:00', 'endTime': '21:30:00'}, {'title': 'Meditation', 'startTime': '17:30:00', 'endTime': '18:30:00'}, {'title': 'Newspaper', 'startTime': '10:15:00', 'endTime': '10:30:00'}, {'title': 'Patent Work', 'startTime': '13:15:00', 'endTime': '17:30:00'}, {'title': 'Work and Meetings', 'startTime': '20:00:00', 'endTime': '21:30:00'}, {'title': 'Blinkist', 'startTime': '12:30:00', 'endTime': '12:45:00'}, {'title': 'Patent Work', 'startTime': '13:15:00', 'endTime': '17:30:00'}, {'title': 'Worship and Prayer', 'startTime': '08:45:00', 'endTime': '09:45:00'}, {'title': 'Worship and Prayer', 'startTime': '08:45:00', 'endTime': '09:45:00'}, {'title': 'Meditation', 'startTime': '07:15:00', 'endTime': '08:15:00'}, {'title': 'Sleep', 'startTime': '00:00:00', 'endTime': '07:00:00'}, {'title': 'Books', 'startTime': '21:30:00', 'endTime': '22:30:00'}, {'title': 'YSS Books', 'startTime': '08:15:00', 'endTime': '08:45:00'}, {'title': 'Lunch', 'startTime': '12:45:00', 'endTime': '13:15:00'}, {'title': 'Work and Meetings', 'startTime': '20:00:00', 'endTime': '21:30:00'}, {'title': 'Startup Work', 'startTime': '10:30:00', 'endTime': '12:30:00'}, {'title': 'Dinner', 'startTime': '19:30:00', 'endTime': '20:00:00'}, {'title': 'Meditation', 'startTime': '17:30:00', 'endTime': '18:30:00'}, {'title': 'Startup Work', 'startTime': '10:30:00', 'endTime': '12:30:00'}, {'title': 'Breakfast', 'startTime': '09:45:00', 'endTime': '10:15:00'}, {'title': 'Blinkist', 'startTime': '12:30:00', 'endTime': '12:45:00'}, {'title': 'Blinkist', 'startTime': '12:30:00', 'endTime': '12:45:00'}, {'title': 'Play', 'startTime': '18:30:00', 'endTime': '19:30:00'}, {'title': 'Newspaper', 'startTime': '10:15:00', 'endTime': '10:30:00'}, {'title': 'Worship and Prayer', 'startTime': '08:45:00', 'endTime': '09:45:00'}, {'title': 'Play', 'startTime': '18:30:00', 'endTime': '19:30:00'}, {'title': 'Work and Meetings', 'startTime': '20:00:00', 'endTime': '21:30:00'}, {'title': 'Meditation', 'startTime': '17:30:00', 'endTime': '18:30:00'}, {'title': 'Meditation', 'startTime': '07:15:00', 'endTime': '08:15:00'}, {'title': 'Meditation', 'startTime': '17:30:00', 'endTime': '18:30:00'}, {'title': 'Newspaper', 'startTime': '10:15:00', 'endTime': '10:30:00'}, {'title': 'Lunch', 'startTime': '12:45:00', 'endTime': '13:15:00'}, {'title': 'YSS Books', 'startTime': '08:15:00', 'endTime': '08:45:00'}, {'title': 'YSS Books', 'startTime': '08:15:00', 'endTime': '08:45:00'}, {'title': 'Books', 'startTime': '21:30:00', 'endTime': '22:30:00'}, {'title': 'YSS Books', 'startTime': '08:15:00', 'endTime': '08:45:00'}, {'title': 'Dinner', 'startTime': '19:30:00', 'endTime': '20:00:00'}, {'title': 'Meditation', 'startTime': '17:30:00', 'endTime': '18:30:00'}, {'title': 'Patent Work', 'startTime': '13:15:00', 'endTime': '17:30:00'}, {'title': 'Dinner', 'startTime': '19:30:00', 'endTime': '20:00:00'}, {'title': 'Books', 'startTime': '21:30:00', 'endTime': '22:30:00'}, {'title': 'Work and Meetings', 'startTime': '20:00:00', 'endTime': '21:30:00'}, {'title': 'Lunch', 'startTime': '12:45:00', 'endTime': '13:15:00'}, {'title': 'Newspaper', 'startTime': '10:15:00', 'endTime': '10:30:00'}, {'title': 'Patent Work', 'startTime': '13:15:00', 'endTime': '17:30:00'}, {'title': 'Startup Work', 'startTime': '10:30:00', 'endTime': '12:30:00'}, {'title': 'Wake Up', 'startTime': '07:00:00', 'endTime': '07:15:00'}, {'title': 'Dinner', 'startTime': '19:30:00', 'endTime': '20:00:00'}, {'title': 'Worship and Prayer', 'startTime': '08:45:00', 'endTime': '09:45:00'}, {'title': 'Meditation', 'startTime': '07:15:00', 'endTime': '08:15:00'}, {'title': 'Work and Meetings', 'startTime': '20:00:00', 'endTime': '21:30:00'}, {'title': 'Books', 'startTime': '21:30:00', 'endTime': '22:30:00'}, {'title': 'Breakfast', 'startTime': '09:45:00', 'endTime': '10:15:00'}, {'title': 'Dinner', 'startTime': '19:30:00', 'endTime': '20:00:00'}, {'title': 'Startup Work', 'startTime': '10:30:00', 'endTime': '12:30:00'}, {'title': 'Wake Up', 'startTime': '07:00:00', 'endTime': '07:15:00'}, {'title': 'Lunch', 'startTime': '12:45:00', 'endTime': '13:15:00'}, {'title': 'Sleep', 'startTime': '00:00:00', 'endTime': '07:00:00'}, {'title': 'Wake Up', 'startTime': '07:00:00', 'endTime': '07:15:00'}, {'title': 'Startup Work', 'startTime': '10:30:00', 'endTime': '12:30:00'}, {'title': 'Worship and Prayer', 'startTime': '08:45:00', 'endTime': '09:45:00'}, {'title': 'Wake Up', 'startTime': '07:00:00', 'endTime': '07:15:00'}, {'title': 'Play', 'startTime': '18:30:00', 'endTime': '19:30:00'}, {'title': 'Dinner', 'startTime': '19:30:00', 'endTime': '20:00:00'}, {'title': 'Lunch', 'startTime': '12:45:00', 'endTime': '13:15:00'}, {'title': 'Patent Work', 'startTime': '13:15:00', 'endTime': '17:30:00'}, {'title': 'Sleep', 'startTime': '00:00:00', 'endTime': '07:00:00'}, {'title': 'Books', 'startTime': '21:30:00', 'endTime': '22:30:00'}, {'title': 'Sleep', 'startTime': '00:00:00', 'endTime': '07:00:00'}, {'title': 'Books', 'startTime': '21:30:00', 'endTime': '22:30:00'}, {'title': 'Play', 'startTime': '18:30:00', 'endTime': '19:30:00'}, {'title': 'Megha', 'startTime': '22:30:00', 'endTime': '00:00:00'}, {'title': 'Eat', 'startTime': '07:00:00', 'endTime': '09:30:00'}, {'title': 'YSS Books', 'startTime': '08:15:00', 'endTime': '08:45:00'}, {'title': 'Dinner', 'startTime': '19:30:00', 'endTime': '20:00:00'}, {'title': 'Blinkist', 'startTime': '12:30:00', 'endTime': '12:45:00'}, {'title': 'Breakfast', 'startTime': '09:45:00', 'endTime': '10:15:00'}, {'title': 'Startup Work', 'startTime': '10:30:00', 'endTime': '12:30:00'}, {'title': 'Newspaper', 'startTime': '10:15:00', 'endTime': '10:30:00'}, {'title': 'Dinner', 'startTime': '19:30:00', 'endTime': '20:00:00'}, {'title': 'Startup Work', 'startTime': '10:30:00', 'endTime': '12:30:00'}, {'title': 'Newspaper', 'startTime': '10:15:00', 'endTime': '10:30:00'}, {'title': 'Megha', 'startTime': '22:30:00', 'endTime': '00:00:00'}, {'title': 'Dinner', 'startTime': '19:30:00', 'endTime': '20:00:00'}, {'title': 'Megha', 'startTime': '22:30:00', 'endTime': '00:00:00'}, {'title': 'Wake Up', 'startTime': '07:00:00', 'endTime': '07:15:00'}, {'title': 'Healthy Eats', 'startTime': '18:00:00', 'endTime': '19:00:00'}, {'title': 'Breakfast', 'startTime': '09:45:00', 'endTime': '10:15:00'}, {'title': 'Work and Meetings', 'startTime': '20:00:00', 'endTime': '21:30:00'}, {'title': 'YSS Books', 'startTime': '08:15:00', 'endTime': '08:45:00'}, {'title': 'Wake Up', 'startTime': '07:00:00', 'endTime': '07:15:00'}, {'title': 'Work and Meetings', 'startTime': '20:00:00', 'endTime': '21:30:00'}, {'title': 'Blinkist', 'startTime': '12:30:00', 'endTime': '12:45:00'}, {'title': 'Work and Meetings', 'startTime': '20:00:00', 'endTime': '21:30:00'}, {'title': 'Lunch', 'startTime': '12:45:00', 'endTime': '13:15:00'}, {'title': 'Patent Work', 'startTime': '13:15:00', 'endTime': '17:30:00'}, {'title': 'Patent Work', 'startTime': '13:15:00', 'endTime': '17:30:00'}, {'title': 'Meditation', 'startTime': '07:15:00', 'endTime': '08:15:00'}, {'title': 'Meditation', 'startTime': '07:15:00', 'endTime': '08:15:00'}, {'title': 'Books', 'startTime': '21:30:00', 'endTime': '22:30:00'}, {'title': 'Books', 'startTime': '21:30:00', 'endTime': '22:30:00'}, {'title': 'Meditation', 'startTime': '07:15:00', 'endTime': '08:15:00'}, {'title': 'Meditation', 'startTime': '17:30:00', 'endTime': '18:30:00'}, {'title': 'Newspaper', 'startTime': '10:15:00', 'endTime': '10:30:00'}, {'title': 'Breakfast', 'startTime': '09:45:00', 'endTime': '10:15:00'}, {'title': 'Wake Up', 'startTime': '07:00:00', 'endTime': '07:15:00'}, {'title': 'Meditation', 'startTime': '17:30:00', 'endTime': '18:30:00'}, {'title': 'Sleep', 'startTime': '00:00:00', 'endTime': '07:00:00'}, {'title': 'Newspaper', 'startTime': '10:15:00', 'endTime': '10:30:00'}, {'title': 'Megha', 'startTime': '22:30:00', 'endTime': '00:00:00'}, {'title': 'Sleep', 'startTime': '00:00:00', 'endTime': '07:00:00'}, {'title': 'Newspaper', 'startTime': '10:15:00', 'endTime': '10:30:00'}, {'title': 'Work and Meetings', 'startTime': '20:00:00', 'endTime': '21:30:00'}, {'title': 'Meditation', 'startTime': '07:15:00', 'endTime': '08:15:00'}, {'title': 'Work and Meetings', 'startTime': '20:00:00', 'endTime': '21:30:00'}, {'title': 'Worship and Prayer', 'startTime': '08:45:00', 'endTime': '09:45:00'}, {'title': 'Meditation', 'startTime': '17:30:00', 'endTime': '18:30:00'}, {'title': 'Meditation', 'startTime': '17:30:00', 'endTime': '18:30:00'}, {'title': 'Play', 'startTime': '18:30:00', 'endTime': '19:30:00'}, {'title': 'Newspaper', 'startTime': '10:15:00', 'endTime': '10:30:00'}, {'title': 'Wake Up', 'startTime': '07:00:00', 'endTime': '07:15:00'}, {'title': 'Worship and Prayer', 'startTime': '08:45:00', 'endTime': '09:45:00'}, {'title': 'Meditation', 'startTime': '07:15:00', 'endTime': '08:15:00'}, {'title': 'Breakfast', 'startTime': '09:45:00', 'endTime': '10:15:00'}, {'title': 'Meeting', 'startTime': '15:30:00', 'endTime': '17:00:00'}, {'title': 'Megha', 'startTime': '22:30:00', 'endTime': '00:00:00'}, {'title': 'Meditation', 'startTime': '17:30:00', 'endTime': '18:30:00'}, {'title': 'Patent Work', 'startTime': '13:15:00', 'endTime': '17:30:00'}, {'title': 'Blinkist', 'startTime': '12:30:00', 'endTime': '12:45:00'}, {'title': 'Blinkist', 'startTime': '12:30:00', 'endTime': '12:45:00'}, {'title': 'Lunch', 'startTime': '12:45:00', 'endTime': '13:15:00'}, {'title': 'Worship and Prayer', 'startTime': '08:45:00', 'endTime': '09:45:00'}, {'title': 'Worship and Prayer', 'startTime': '08:45:00', 'endTime': '09:45:00'}, {'title': 'Dinner', 'startTime': '19:30:00', 'endTime': '20:00:00'}, {'title': 'Meditation', 'startTime': '17:30:00', 'endTime': '18:30:00'}, {'title': 'Wake Up', 'startTime': '07:00:00', 'endTime': '07:15:00'}, {'title': 'Worship and Prayer', 'startTime': '08:45:00', 'endTime': '09:45:00'}, {'title': 'Sleep', 'startTime': '00:00:00', 'endTime': '07:00:00'}, {'title': 'Sleep', 'startTime': '00:00:00', 'endTime': '07:00:00'}, {'title': 'Megha', 'startTime': '22:30:00', 'endTime': '00:00:00'}, {'title': 'Books', 'startTime': '21:30:00', 'endTime': '22:30:00'}, {'title': 'Wake Up', 'startTime': '07:00:00', 'endTime': '07:15:00'}, {'title': 'Megha', 'startTime': '22:30:00', 'endTime': '00:00:00'}, {'title': 'Study', 'startTime': '09:30:00', 'endTime': '11:00:00'}, {'title': 'Blinkist', 'startTime': '12:30:00', 'endTime': '12:45:00'}, {'title': 'Sleep', 'startTime': '00:00:00', 'endTime': '07:00:00'}, {'title': 'Worship and Prayer', 'startTime': '08:45:00', 'endTime': '09:45:00'}, {'title': 'Startup Work', 'startTime': '10:30:00', 'endTime': '12:30:00'}, {'title': 'Dinner', 'startTime': '19:30:00', 'endTime': '20:00:00'}, {'title': 'Play', 'startTime': '18:30:00', 'endTime': '19:30:00'}, {'title': 'Megha', 'startTime': '22:30:00', 'endTime': '00:00:00'}, {'title': 'Meditation', 'startTime': '17:30:00', 'endTime': '18:30:00'}, {'title': 'Play', 'startTime': '18:30:00', 'endTime': '19:30:00'}, {'title': 'Wake Up', 'startTime': '07:00:00', 'endTime': '07:15:00'}, {'title': 'Lunch', 'startTime': '12:45:00', 'endTime': '13:15:00'}, {'title': 'Breakfast', 'startTime': '09:45:00', 'endTime': '10:15:00'}, {'title': 'Sleep', 'startTime': '00:00:00', 'endTime': '07:00:00'}, {'title': 'Blinkist', 'startTime': '12:30:00', 'endTime': '12:45:00'}, {'title': 'Breakfast', 'startTime': '09:45:00', 'endTime': '10:15:00'}, {'title': 'Meditation', 'startTime': '17:30:00', 'endTime': '18:30:00'}, {'title': 'Patent Work', 'startTime': '13:15:00', 'endTime': '17:30:00'}, {'title': 'Blinkist', 'startTime': '12:30:00', 'endTime': '12:45:00'}, {'title': 'YSS Books', 'startTime': '08:15:00', 'endTime': '08:45:00'}, {'title': 'Blinkist', 'startTime': '12:30:00', 'endTime': '12:45:00'}, {'title': 'Play', 'startTime': '18:30:00', 'endTime': '19:30:00'}, {'title': 'Meditation', 'startTime': '07:15:00', 'endTime': '08:15:00'}, {'title': 'Breakfast', 'startTime': '09:45:00', 'endTime': '10:15:00'}, {'title': 'Play', 'startTime': '18:30:00', 'endTime': '19:30:00'}, {'title': 'Dinner', 'startTime': '19:30:00', 'endTime': '20:00:00'}, {'title': 'Dinner', 'startTime': '19:30:00', 'endTime': '20:00:00'}, {'title': 'YSS Books', 'startTime': '08:15:00', 'endTime': '08:45:00'}, {'title': 'Meditation', 'startTime': '07:15:00', 'endTime': '08:15:00'}, {'title': 'Wake Up', 'startTime': '07:00:00', 'endTime': '07:15:00'}, {'title': 'Megha', 'startTime': '22:30:00', 'endTime': '00:00:00'}, {'title': 'Megha', 'startTime': '22:30:00', 'endTime': '00:00:00'}, {'title': 'Gratitude', 'startTime': '19:00:00', 'endTime': '21:00:00'}, {'title': 'Breakfast', 'startTime': '09:45:00', 'endTime': '10:15:00'}, {'title': 'Patent Work', 'startTime': '13:15:00', 'endTime': '17:30:00'}, {'title': 'Patent Work', 'startTime': '13:15:00', 'endTime': '17:30:00'}, {'title': 'Newspaper', 'startTime': '10:15:00', 'endTime': '10:30:00'}, {'title': 'Dinner', 'startTime': '19:30:00', 'endTime': '20:00:00'}, {'title': 'Startup Work', 'startTime': '10:30:00', 'endTime': '12:30:00'}, {'title': 'Play', 'startTime': '18:30:00', 'endTime': '19:30:00'}, {'title': 'Patent Work', 'startTime': '13:15:00', 'endTime': '17:30:00'}, {'title': 'Meditation', 'startTime': '17:30:00', 'endTime': '18:30:00'}, {'title': 'Sleep', 'startTime': '00:00:00', 'endTime': '07:00:00'}, {'title': 'Patent Work', 'startTime': '13:15:00', 'endTime': '17:30:00'}, {'title': 'YSS Books', 'startTime': '08:15:00', 'endTime': '08:45:00'}, {'title': 'Lunch', 'startTime': '12:45:00', 'endTime': '13:15:00'}, {'title': 'Dinner', 'startTime': '19:30:00', 'endTime': '20:00:00'}, {'title': 'YSS Books', 'startTime': '08:15:00', 'endTime': '08:45:00'}, {'title': 'Megha', 'startTime': '22:30:00', 'endTime': '00:00:00'}, {'title': 'YSS Books', 'startTime': '08:15:00', 'endTime': '08:45:00'}, {'title': 'Breakfast', 'startTime': '09:45:00', 'endTime': '10:15:00'}, {'title': 'YSS Books', 'startTime': '08:15:00', 'endTime': '08:45:00'}, {'title': 'Meditation', 'startTime': '07:15:00', 'endTime': '08:15:00'}, {'title': 'Newspaper', 'startTime': '10:15:00', 'endTime': '10:30:00'}, {'title': 'Breakfast', 'startTime': '09:45:00', 'endTime': '10:15:00'}, {'title': 'Lunch', 'startTime': '12:45:00', 'endTime': '13:15:00'}, {'title': 'Dinner', 'startTime': '19:30:00', 'endTime': '20:00:00'}, {'title': 'Books', 'startTime': '21:30:00', 'endTime': '22:30:00'}, {'title': 'Dinner', 'startTime': '19:30:00', 'endTime': '20:00:00'}, {'title': 'Patent Work', 'startTime': '13:15:00', 'endTime': '17:30:00'}, {'title': 'Work and Meetings', 'startTime': '20:00:00', 'endTime': '21:30:00'}, {'title': 'Books', 'startTime': '21:30:00', 'endTime': '22:30:00'}, {'title': 'Patent Work', 'startTime': '13:15:00', 'endTime': '17:30:00'}, {'title': 'Newspaper', 'startTime': '10:15:00', 'endTime': '10:30:00'}, {'title': 'Dinner', 'startTime': '19:30:00', 'endTime': '20:00:00'}, {'title': 'Megha', 'startTime': '22:30:00', 'endTime': '00:00:00'}, {'title': 'Breakfast', 'startTime': '09:45:00', 'endTime': '10:15:00'}, {'title': 'Megha', 'startTime': '22:30:00', 'endTime': '00:00:00'}, {'title': 'Megha', 'startTime': '22:30:00', 'endTime': '00:00:00'}, {'title': 'Patent Work', 'startTime': '13:15:00', 'endTime': '17:30:00'}, {'title': 'Books', 'startTime': '21:30:00', 'endTime': '22:30:00'}, {'title': 'Play', 'startTime': '18:30:00', 'endTime': '19:30:00'}, {'title': 'Lunch', 'startTime': '12:45:00', 'endTime': '13:15:00'}, {'title': 'Twinkle star', 'startTime': '00:00:00', 'endTime': '06:00:00'}, {'title': 'YSS Books', 'startTime': '08:15:00', 'endTime': '08:45:00'}, {'title': 'Worship and Prayer', 'startTime': '08:45:00', 'endTime': '09:45:00'}, {'title': 'Breakfast', 'startTime': '09:45:00', 'endTime': '10:15:00'}, {'title': 'Meditation', 'startTime': '07:15:00', 'endTime': '08:15:00'}, {'title': 'Lunch', 'startTime': '12:45:00', 'endTime': '13:15:00'}, {'title': 'Work and Meetings', 'startTime': '20:00:00', 'endTime': '21:30:00'}, {'title': 'Meditation', 'startTime': '17:30:00', 'endTime': '18:30:00'}, {'title': 'Work and Meetings', 'startTime': '20:00:00', 'endTime': '21:30:00'}, {'title': 'Wake Up', 'startTime': '07:00:00', 'endTime': '07:15:00'}, {'title': 'Lunch', 'startTime': '12:45:00', 'endTime': '13:15:00'}, {'title': 'Breakfast', 'startTime': '09:45:00', 'endTime': '10:15:00'}, {'title': 'Patent Work', 'startTime': '13:15:00', 'endTime': '17:30:00'}, {'title': 'Meditation', 'startTime': '17:30:00', 'endTime': '18:30:00'}, {'title': 'Meditation', 'startTime': '17:30:00', 'endTime': '18:30:00'}, {'title': 'YSS Books', 'startTime': '08:15:00', 'endTime': '08:45:00'}, {'title': 'Sleep', 'startTime': '00:00:00', 'endTime': '07:00:00'}, {'title': 'Lunch', 'startTime': '12:45:00', 'endTime': '13:15:00'}, {'title': 'Meditation', 'startTime': '07:15:00', 'endTime': '08:15:00'}, {'title': 'Lunch', 'startTime': '12:45:00', 'endTime': '13:15:00'}, {'title': 'Startup Work', 'startTime': '10:30:00', 'endTime': '12:30:00'}, {'title': 'Megha', 'startTime': '22:30:00', 'endTime': '00:00:00'}, {'title': 'Play', 'startTime': '18:30:00', 'endTime': '19:30:00'}, {'title': 'Dinner', 'startTime': '19:30:00', 'endTime': '20:00:00'}, {'title': 'Startup Work', 'startTime': '10:30:00', 'endTime': '12:30:00'}, {'title': 'Meditation', 'startTime': '07:15:00', 'endTime': '08:15:00'}, {'title': 'Work and Meetings', 'startTime': '20:00:00', 'endTime': '21:30:00'}, {'title': 'Startup Work', 'startTime': '10:30:00', 'endTime': '12:30:00'}, {'title': 'Newspaper', 'startTime': '10:15:00', 'endTime': '10:30:00'}, {'title': 'Blinkist', 'startTime': '12:30:00', 'endTime': '12:45:00'}, {'title': 'Meditation', 'startTime': '07:15:00', 'endTime': '08:15:00'}, {'title': 'Breakfast', 'startTime': '09:45:00', 'endTime': '10:15:00'}, {'title': 'Lunch', 'startTime': '12:45:00', 'endTime': '13:15:00'}, {'title': 'Startup Work', 'startTime': '10:30:00', 'endTime': '12:30:00'}, {'title': 'Breakfast', 'startTime': '09:45:00', 'endTime': '10:15:00'}, {'title': 'Worship and Prayer', 'startTime': '08:45:00', 'endTime': '09:45:00'}, {'title': 'Blinkist', 'startTime': '12:30:00', 'endTime': '12:45:00'}, {'title': 'Blinkist', 'startTime': '12:30:00', 'endTime': '12:45:00'}, {'title': 'Breakfast', 'startTime': '09:45:00', 'endTime': '10:15:00'}, {'title': 'Startup Work', 'startTime': '10:30:00', 'endTime': '12:30:00'}, {'title': 'Get outside', 'startTime': '06:45:00', 'endTime': '07:00:00'}, {'title': 'Worship and Prayer', 'startTime': '08:45:00', 'endTime': '09:45:00'}, {'title': 'Worship and Prayer', 'startTime': '08:45:00', 'endTime': '09:45:00'}, {'title': 'Sleep', 'startTime': '00:00:00', 'endTime': '07:00:00'}, {'title': 'Startup Work', 'startTime': '10:30:00', 'endTime': '12:30:00'}, {'title': 'Books', 'startTime': '21:30:00', 'endTime': '22:30:00'}, {'title': 'Work and Meetings', 'startTime': '20:00:00', 'endTime': '21:30:00'}, {'title': 'Meditation', 'startTime': '17:30:00', 'endTime': '18:30:00'}, {'title': 'Patent Work', 'startTime': '13:15:00', 'endTime': '17:30:00'}, {'title': 'Patent Work', 'startTime': '13:15:00', 'endTime': '17:30:00'}, {'title': 'Newspaper', 'startTime': '10:15:00', 'endTime': '10:30:00'}, {'title': 'YSS Books', 'startTime': '08:15:00', 'endTime': '08:45:00'}, {'title': 'Newspaper', 'startTime': '10:15:00', 'endTime': '10:30:00'}, {'title': 'Meditation', 'startTime': '17:30:00', 'endTime': '18:30:00'}, {'title': 'Meditation', 'startTime': '07:15:00', 'endTime': '08:15:00'}, {'title': 'Blinkist', 'startTime': '12:30:00', 'endTime': '12:45:00'}, {'title': 'Meditation', 'startTime': '17:30:00', 'endTime': '18:30:00'}, {'title': 'Newspaper', 'startTime': '10:15:00', 'endTime': '10:30:00'}, {'title': 'YSS Books', 'startTime': '08:15:00', 'endTime': '08:45:00'}, {'title': 'Play', 'startTime': '18:30:00', 'endTime': '19:30:00'}, {'title': 'Blinkist', 'startTime': '12:30:00', 'endTime': '12:45:00'}, {'title': 'Lunch', 'startTime': '12:45:00', 'endTime': '13:15:00'}, {'title': 'Work and Meetings', 'startTime': '20:00:00', 'endTime': '21:30:00'}, {'title': 'Play', 'startTime': '18:30:00', 'endTime': '19:30:00'}, {'title': 'Patent Work', 'startTime': '13:15:00', 'endTime': '17:30:00'}, {'title': 'Work and Meetings', 'startTime': '20:00:00', 'endTime': '21:30:00'}, {'title': 'Worship and Prayer', 'startTime': '08:45:00', 'endTime': '09:45:00'}, {'title': 'Breakfast', 'startTime': '09:45:00', 'endTime': '10:15:00'}, {'title': 'Sleep', 'startTime': '00:00:00', 'endTime': '07:00:00'}, {'title': 'Wake Up', 'startTime': '07:00:00', 'endTime': '07:15:00'}, {'title': 'Startup Work', 'startTime': '10:30:00', 'endTime': '12:30:00'}, {'title': 'YSS Books', 'startTime': '08:15:00', 'endTime': '08:45:00'}, {'title': 'Megha', 'startTime': '22:30:00', 'endTime': '00:00:00'}, {'title': 'Startup Work', 'startTime': '10:30:00', 'endTime': '12:30:00'}, {'title': 'Breakfast', 'startTime': '09:45:00', 'endTime': '10:15:00'}, {'title': 'Newspaper', 'startTime': '10:15:00', 'endTime': '10:30:00'}, {'title': 'Play', 'startTime': '18:30:00', 'endTime': '19:30:00'}, {'title': 'Books', 'startTime': '21:30:00', 'endTime': '22:30:00'}, {'title': 'Startup Work', 'startTime': '10:30:00', 'endTime': '12:30:00'}, {'title': 'Breakfast', 'startTime': '09:45:00', 'endTime': '10:15:00'}, {'title': 'Books', 'startTime': '21:30:00', 'endTime': '22:30:00'}, {'title': 'Patent Work', 'startTime': '13:15:00', 'endTime': '17:30:00'}, {'title': 'Sleep', 'startTime': '00:00:00', 'endTime': '07:00:00'}, {'title': 'Play', 'startTime': '18:30:00', 'endTime': '19:30:00'}, {'title': 'Worship and Prayer', 'startTime': '08:45:00', 'endTime': '09:45:00'}, {'title': 'Megha', 'startTime': '22:30:00', 'endTime': '00:00:00'}, {'title': 'Play', 'startTime': '18:30:00', 'endTime': '19:30:00'}, {'title': 'Lunch', 'startTime': '12:45:00', 'endTime': '13:15:00'}, {'title': 'Wake Up', 'startTime': '07:00:00', 'endTime': '07:15:00'}, {'title': 'YSS Books', 'startTime': '08:15:00', 'endTime': '08:45:00'}, {'title': 'Blinkist', 'startTime': '12:30:00', 'endTime': '12:45:00'}, {'title': 'Startup Work', 'startTime': '10:30:00', 'endTime': '12:30:00'}, {'title': 'Newspaper', 'startTime': '10:15:00', 'endTime': '10:30:00'}, {'title': 'Sleep', 'startTime': '00:00:00', 'endTime': '07:00:00'}, {'title': 'Lunch', 'startTime': '12:45:00', 'endTime': '13:15:00'}, {'title': 'YSS Books', 'startTime': '08:15:00', 'endTime': '08:45:00'}, {'title': 'Play', 'startTime': '18:30:00', 'endTime': '19:30:00'}, {'title': 'Meditation', 'startTime': '17:30:00', 'endTime': '18:30:00'}, {'title': 'Meditation', 'startTime': '17:30:00', 'endTime': '18:30:00'}, {'title': 'Work and Meetings', 'startTime': '20:00:00', 'endTime': '21:30:00'}, {'title': 'Work and Meetings', 'startTime': '20:00:00', 'endTime': '21:30:00'}, {'title': 'Plan my day', 'startTime': '06:30:00', 'endTime': '06:45:00'}, {'title': 'Play', 'startTime': '18:30:00', 'endTime': '19:30:00'}, {'title': 'Wake Up', 'startTime': '07:00:00', 'endTime': '07:15:00'}, {'title': 'Wake Up', 'startTime': '07:00:00', 'endTime': '07:15:00'}, {'title': 'Flow', 'startTime': '17:00:00', 'endTime': '18:00:00'}, {'title': 'Work and Meetings', 'startTime': '20:00:00', 'endTime': '21:30:00'}, {'title': 'Play', 'startTime': '18:30:00', 'endTime': '19:30:00'}, {'title': 'Newspaper', 'startTime': '10:15:00', 'endTime': '10:30:00'}, {'title': 'Meditation', 'startTime': '07:15:00', 'endTime': '08:15:00'}, {'title': 'Dinner', 'startTime': '19:30:00', 'endTime': '20:00:00'}, {'title': 'Megha', 'startTime': '22:30:00', 'endTime': '00:00:00'}, {'title': 'Newspaper', 'startTime': '10:15:00', 'endTime': '10:30:00'}, {'title': 'Blinkist', 'startTime': '12:30:00', 'endTime': '12:45:00'}, {'title': 'Lunch', 'startTime': '12:45:00', 'endTime': '13:15:00'}, {'title': \"Jammin'\", 'startTime': '12:00:00', 'endTime': '14:00:00'}, {'title': 'Work and Meetings', 'startTime': '20:00:00', 'endTime': '21:30:00'}, {'title': 'Eat Greens', 'startTime': '11:00:00', 'endTime': '12:00:00'}, {'title': 'Lunch', 'startTime': '12:45:00', 'endTime': '13:15:00'}, {'title': 'Lunch', 'startTime': '12:45:00', 'endTime': '13:15:00'}, {'title': 'Work and Meetings', 'startTime': '20:00:00', 'endTime': '21:30:00'}, {'title': 'Patent Work', 'startTime': '13:15:00', 'endTime': '17:30:00'}]\n"
     ]
    }
   ],
   "source": [
    "print(csv_data_json)"
   ]
  },
  {
   "cell_type": "code",
   "execution_count": 647,
   "id": "3457caa6-51cb-4896-8d49-44a897856642",
   "metadata": {},
   "outputs": [
    {
     "data": {
      "text/plain": [
       "'{\\n    \"Blinkist\": \"12:30:00 - 12:45:00\",\\n    \"Books\": \"21:30:00 - 22:30:00\",\\n    \"Breakfast\": \"09:45:00 - 10:15:00\",\\n    \"Dinner\": \"19:30:00 - 20:00:00\",\\n    \"Dreams\": \"21:00:00 - 00:00:00\",\\n    \"Eat\": \"07:00:00 - 09:30:00\",\\n    \"Eat Greens\": \"11:00:00 - 12:00:00\",\\n    \"Flow\": \"17:00:00 - 18:00:00\",\\n    \"Get outside\": \"06:45:00 - 07:00:00\",\\n    \"Gratitude\": \"19:00:00 - 21:00:00\",\\n    \"Healthy Eats\": \"18:00:00 - 19:00:00\",\\n    \"Jammin\\'\": \"12:00:00 - 14:00:00\",\\n    \"Lunch\": \"12:45:00 - 13:15:00\",\\n    \"Meditation\": \"07:15:00 - 08:15:00\",\\n    \"Meeting\": \"15:30:00 - 17:00:00\",\\n    \"Megha\": \"22:30:00 - 00:00:00\",\\n    \"Move\": \"14:00:00 - 15:00:00\",\\n    \"Newspaper\": \"10:15:00 - 10:30:00\",\\n    \"Patent Work\": \"13:15:00 - 17:30:00\",\\n    \"Plan my day\": \"06:30:00 - 06:45:00\",\\n    \"Play\": \"18:30:00 - 19:30:00\",\\n    \"Sleep\": \"00:00:00 - 07:00:00\",\\n    \"Startup Work\": \"10:30:00 - 12:30:00\",\\n    \"Study\": \"09:30:00 - 11:00:00\",\\n    \"Twinkle star\": \"00:00:00 - 06:00:00\",\\n    \"Wake Up\": \"07:00:00 - 07:15:00\",\\n    \"Work and Meetings\": \"20:00:00 - 21:30:00\",\\n    \"Worship and Prayer\": \"08:45:00 - 09:45:00\",\\n    \"YSS Books\": \"08:15:00 - 08:45:00\"\\n}'"
      ]
     },
     "execution_count": 647,
     "metadata": {},
     "output_type": "execute_result"
    }
   ],
   "source": [
    "from collections import defaultdict\n",
    "# Group by activity title and calculate the most common start and end times\n",
    "activity_summary = defaultdict(list)\n",
    "\n",
    "for title, group in df.groupby('title'):\n",
    "    start_times = group['startTime'].astype(str).mode().values[0]\n",
    "    end_times = group['endTime'].astype(str).mode().values[0]\n",
    "    activity_summary[title] = f\"{start_times} - {end_times}\"\n",
    "\n",
    "# Convert to JSON format\n",
    "activity_summary_json = json.dumps(activity_summary, indent=4)\n",
    "activity_summary_json"
   ]
  },
  {
   "cell_type": "code",
   "execution_count": 648,
   "id": "b258f792-5a4c-4903-8659-6bb27f71c5f9",
   "metadata": {},
   "outputs": [
    {
     "data": {
      "text/plain": [
       "\"12:00 AM - 06:00 AM: Twinkle star\\n12:00 AM - 07:00 AM: Sleep\\n06:30 AM - 06:45 AM: Plan my day\\n06:45 AM - 07:00 AM: Get outside\\n07:00 AM - 07:15 AM: Wake Up\\n07:00 AM - 09:30 AM: Eat\\n07:15 AM - 08:15 AM: Meditation\\n08:15 AM - 08:45 AM: YSS Books\\n08:45 AM - 09:45 AM: Worship and Prayer\\n09:30 AM - 11:00 AM: Study\\n09:45 AM - 10:15 AM: Breakfast\\n10:15 AM - 10:30 AM: Newspaper\\n10:30 AM - 12:30 PM: Startup Work\\n11:00 AM - 12:00 PM: Eat Greens\\n12:00 PM - 02:00 PM: Jammin'\\n12:30 PM - 12:45 PM: Blinkist\\n12:45 PM - 01:15 PM: Lunch\\n01:15 PM - 05:30 PM: Patent Work\\n02:00 PM - 03:00 PM: Move\\n03:30 PM - 05:00 PM: Meeting\\n05:00 PM - 06:00 PM: Flow\\n06:00 PM - 07:00 PM: Healthy Eats\\n06:30 PM - 07:30 PM: Play\\n07:00 PM - 09:00 PM: Gratitude\\n07:30 PM - 08:00 PM: Dinner\\n08:00 PM - 09:30 PM: Work and Meetings\\n09:00 PM - 12:00 AM: Dreams\\n09:30 PM - 10:30 PM: Books\\n10:30 PM - 12:00 AM: Megha\""
      ]
     },
     "execution_count": 648,
     "metadata": {},
     "output_type": "execute_result"
    }
   ],
   "source": [
    "from datetime import datetime\n",
    "# Convert activity times into a structured list\n",
    "day_plan = []\n",
    "for activity, time_range in activity_summary.items():\n",
    "    start_time, end_time = time_range.split(\" - \")\n",
    "    start_time = datetime.strptime(start_time, \"%H:%M:%S\").time()\n",
    "    end_time = datetime.strptime(end_time, \"%H:%M:%S\").time()\n",
    "    day_plan.append((start_time, end_time, activity))\n",
    "\n",
    "# Sort by start time\n",
    "day_plan.sort()\n",
    "\n",
    "# Create a structured daily schedule\n",
    "formatted_schedule = \"\\n\".join(\n",
    "    [f\"{start.strftime('%I:%M %p')} - {end.strftime('%I:%M %p')}: {activity}\" for start, end, activity in day_plan]\n",
    ")\n",
    "\n",
    "formatted_schedule"
   ]
  },
  {
   "cell_type": "code",
   "execution_count": 649,
   "id": "5788d206-dcf1-44b4-8abd-d8c48fdeb2ce",
   "metadata": {},
   "outputs": [],
   "source": [
    "llm = Ollama(model=\"llama3.2:latest\")"
   ]
  },
  {
   "cell_type": "code",
   "execution_count": 650,
   "id": "3168735c-4955-433f-aae0-5d56153a7f8b",
   "metadata": {},
   "outputs": [],
   "source": [
    "### **Step 1: Extract User’s Past Activity Patterns**\n",
    "extract_prompt_template = f\"\"\"\n",
    "You are an AI that helps users optimize their daily schedule based on feedback. You must return the **updated schedule in valid JSON format only**, with no additional explanation.\n",
    "\n",
    "### **User's Schedule**\n",
    "```json\n",
    "{formatted_schedule}\n",
    "\n",
    "User's Feedback\n",
    "\n",
    "\"{user_feedback}\"\n",
    "Update Instructions\n",
    "\n",
    "    If the user says \"I didn't get enough sleep\", adjust bedtime earlier.\n",
    "    If the user says \"I want more time for exercise\", extend Play or Move time.\n",
    "    If the user says \"I need more time for work\", optimize meetings or Startup Work.\n",
    "    Ensure there is a balanced schedule.\n",
    "\n",
    "Expected JSON Output Format\n",
    "\n",
    "You must strictly return in the following structure with the times:\n",
    "\n",
    "\"{formatted_schedule}\"\n",
    "Return only valid this. Do not include any explanations, introductions, or additional text.\n",
    "\n",
    "\"\"\""
   ]
  },
  {
   "cell_type": "code",
   "execution_count": 651,
   "id": "baf0e99d-fa15-4360-8e57-3f77b49d7553",
   "metadata": {},
   "outputs": [],
   "source": [
    "user_feedback = \"I want more time to work.\""
   ]
  },
  {
   "cell_type": "code",
   "execution_count": 652,
   "id": "c5378be0-3983-4cfa-b57f-3d2e1f259496",
   "metadata": {},
   "outputs": [],
   "source": [
    "# Format the prompt by injecting variables\n",
    "formatted_prompt = extract_prompt_template.format(\n",
    "    formatted_schedule=formatted_schedule,  # Your schedule data\n",
    "    user_feedback=user_feedback  # The user's feedback\n",
    "    \n",
    ")"
   ]
  },
  {
   "cell_type": "code",
   "execution_count": 653,
   "id": "79db8353-13ed-4d76-8af9-7bb345fc4863",
   "metadata": {},
   "outputs": [],
   "source": [
    "# Send the properly formatted prompt to Ollama\n",
    "response_llama_1 = llm.invoke(formatted_prompt)"
   ]
  },
  {
   "cell_type": "code",
   "execution_count": 654,
   "id": "233be459-0eff-4906-8f0e-1db92639a046",
   "metadata": {},
   "outputs": [
    {
     "name": "stdout",
     "output_type": "stream",
     "text": [
      "```json\n",
      "12:00 AM - 06:00 AM: Twinkle star\n",
      "12:00 AM - 07:00 AM: Sleep\n",
      "06:30 AM - 06:45 AM: Plan my day\n",
      "06:45 AM - 07:00 AM: Get outside\n",
      "07:00 AM - 07:15 AM: Wake Up\n",
      "07:00 AM - 09:30 AM: Eat\n",
      "07:15 AM - 08:15 AM: Meditation\n",
      "08:15 AM - 10:45 AM: Worship and Prayer\n",
      "08:45 AM - 09:45 AM: YSS Books\n",
      "09:30 AM - 11:00 AM: Study\n",
      "09:45 AM - 10:15 AM: Breakfast\n",
      "10:15 AM - 10:30 AM: Newspaper\n",
      "10:30 AM - 12:30 PM: Startup Work\n",
      "11:00 AM - 12:00 PM: Eat Greens\n",
      "12:00 PM - 02:00 PM: Jammin'\n",
      "12:30 PM - 12:45 PM: Blinkist\n",
      "12:45 PM - 01:15 PM: Lunch\n",
      "01:15 PM - 07:30 PM: Patent Work\n",
      "02:00 PM - 03:00 PM: Move\n",
      "03:30 PM - 06:00 PM: Meeting\n",
      "05:00 PM - 06:00 PM: Flow\n",
      "06:00 PM - 07:00 PM: Healthy Eats\n",
      "06:30 PM - 08:30 PM: Play\n",
      "07:00 PM - 09:00 PM: Gratitude\n",
      "07:30 PM - 08:00 PM: Dinner\n",
      "08:00 PM - 12:00 AM: Work and Meetings\n",
      "```\n"
     ]
    }
   ],
   "source": [
    "try: \n",
    "    updated_schedule = json.loads(response) \n",
    "    print(\"Updated Schedule:\", updated_schedule) \n",
    "except json.JSONDecodeError: \n",
    "    print(response_llama_1)"
   ]
  },
  {
   "cell_type": "code",
   "execution_count": 655,
   "id": "e4a471ce-aafe-4d24-8248-6c1af104a930",
   "metadata": {},
   "outputs": [],
   "source": [
    "response_llama_2 = f\"\"\"\n",
    "You are an AI that optimizes a daily schedule by ensuring **no overlapping activities** and maintaining a **well-structured, balanced routine**.\n",
    "\n",
    "### **User's Current Schedule (Needs Optimization)**\n",
    "```json\n",
    "{response_llama_1}\n",
    "\n",
    "\"{user_feedback}\"\n",
    "Update Instructions\n",
    "\n",
    "    If the user says \"I didn't get enough sleep\", adjust bedtime earlier.\n",
    "    If the user says \"I want more time for exercise\", extend Play or Move time.\n",
    "    If the user says \"I need more time for work\", optimize meetings or Startup Work.\n",
    "    Ensure there is a balanced schedule.\n",
    "\n",
    "Optimization Instructions\n",
    "\n",
    "    Make sure there are at least 6 hours for sleep every day. \n",
    "    Ensure no overlapping activities. Each activity must have a distinct time slot.\n",
    "    Maintain a 24-hour schedule. The schedule must not exceed 24 hours.\n",
    "    Preserve all activities, adjusting their order and duration as needed.\n",
    "    Keep essential activities intact (Sleep, meals, work) and ensure their placement makes sense.\n",
    "    Optimize gaps. Fill any long periods of inactivity with relevant activities.\n",
    "    Sort events chronologically from 12:00 AM to 11:59 PM.\n",
    "    Do not modify activity names, only adjust their time slots.\n",
    "    Do not include duplicates—each activity should only appear once per day.\n",
    "    Ensure the total schedule time sums up correctly (no missing time slots or overlaps).\n",
    "\n",
    "Do not include explanations, introductions, or additional text.\n",
    "\n",
    "\n",
    "\n",
    "\"\"\""
   ]
  },
  {
   "cell_type": "code",
   "execution_count": 656,
   "id": "042e7c46-8ae1-43cc-95df-dfbefa11641d",
   "metadata": {},
   "outputs": [],
   "source": [
    "# Format the prompt by injecting variables\n",
    "formatted_prompt = extract_prompt_template.format(\n",
    "    response_llama_1=response_llama_1,  # Your schedule data\n",
    "    user_feedback=user_feedback  # The user's feedback\n",
    "    \n",
    ")\n",
    "\n",
    "optimized_response = llm.invoke(response_llama_2)"
   ]
  },
  {
   "cell_type": "code",
   "execution_count": 657,
   "id": "2583172a-b911-4c99-ac69-4f07004f0205",
   "metadata": {},
   "outputs": [
    {
     "name": "stdout",
     "output_type": "stream",
     "text": [
      "```json\n",
      "12:00 AM - 02:30 AM: Sleep\n",
      "02:30 AM - 06:45 AM: Twinkle star\n",
      "06:45 AM - 07:00 AM: Get outside\n",
      "07:00 AM - 09:15 AM: Meditation\n",
      "07:15 AM - 10:15 AM: Startup Work\n",
      "09:15 AM - 12:15 PM: Worship and Prayer\n",
      "09:15 AM - 11:15 AM: Eat\n",
      "09:45 AM - 11:15 AM: Breakfast\n",
      "10:30 AM - 12:30 PM: Study\n",
      "11:00 AM - 01:00 PM: Eat Greens\n",
      "12:00 PM - 02:00 PM: Jammin'\n",
      "12:30 PM - 01:30 PM: Blinkist\n",
      "01:30 PM - 04:15 PM: Patent Work\n",
      "03:00 PM - 05:00 PM: Move\n",
      "05:00 PM - 06:00 PM: Flow\n",
      "06:00 PM - 08:00 PM: Healthy Eats\n",
      "07:00 PM - 09:00 PM: Gratitude\n",
      "07:30 PM - 09:00 PM: Dinner\n",
      "08:15 PM - 12:15 AM: Work and Meetings\n",
      "```\n"
     ]
    }
   ],
   "source": [
    "try: \n",
    "    optimized_schedule = json.loads(optimized_response) \n",
    "    print(\"Optimized Schedule:\", optimized_schedule) \n",
    "except json.JSONDecodeError: \n",
    "    print(optimized_response)"
   ]
  },
  {
   "cell_type": "code",
   "execution_count": 678,
   "id": "1fbbf782-1ced-49a0-b3e4-d9c77383c0cf",
   "metadata": {},
   "outputs": [],
   "source": [
    "from datetime import datetime, timedelta\n"
   ]
  },
  {
   "cell_type": "code",
   "execution_count": 680,
   "id": "3036d651-7255-49fe-bf79-f4ec033fd947",
   "metadata": {},
   "outputs": [],
   "source": [
    "\n",
    "def parse_time(time_str):\n",
    "    \"\"\"Converts 'hh:mm AM/PM' time to a datetime object for sorting and comparison.\"\"\"\n",
    "    return datetime.strptime(time_str, \"%I:%M %p\")\n",
    "\n",
    "def format_time(time_obj):\n",
    "    \"\"\"Converts datetime object back to 'hh:mm AM/PM' string format.\"\"\"\n",
    "    return time_obj.strftime(\"%I:%M %p\")"
   ]
  },
  {
   "cell_type": "code",
   "execution_count": 684,
   "id": "c0de67b4-fcf6-4e9b-b497-4759e6358b5b",
   "metadata": {},
   "outputs": [
    {
     "ename": "ValueError",
     "evalue": "not enough values to unpack (expected 3, got 1)",
     "output_type": "error",
     "traceback": [
      "\u001b[0;31m---------------------------------------------------------------------------\u001b[0m",
      "\u001b[0;31mValueError\u001b[0m                                Traceback (most recent call last)",
      "Cell \u001b[0;32mIn[684], line 2\u001b[0m\n\u001b[1;32m      1\u001b[0m schedule_sorted \u001b[38;5;241m=\u001b[39m \u001b[38;5;28msorted\u001b[39m(\n\u001b[0;32m----> 2\u001b[0m     [(parse_time(start), parse_time(end), activity) \u001b[38;5;28;01mfor\u001b[39;00m start, end, activity \u001b[38;5;129;01min\u001b[39;00m optimized_response],\n\u001b[1;32m      3\u001b[0m     key\u001b[38;5;241m=\u001b[39m\u001b[38;5;28;01mlambda\u001b[39;00m x: x[\u001b[38;5;241m0\u001b[39m]\n\u001b[1;32m      4\u001b[0m )\n",
      "\u001b[0;31mValueError\u001b[0m: not enough values to unpack (expected 3, got 1)"
     ]
    }
   ],
   "source": [
    "schedule_sorted = sorted(\n",
    "    [(parse_time(start), parse_time(end), activity) for start, end, activity in optimized_response],\n",
    "    key=lambda x: x[0]\n",
    ")\n"
   ]
  },
  {
   "cell_type": "code",
   "execution_count": 675,
   "id": "9a94fd82-b07e-42dc-b049-8e532b24ac01",
   "metadata": {},
   "outputs": [],
   "source": [
    "response_llama_3 = f\"\"\"\n",
    "You are an AI that optimizes a daily schedule by ensuring **no overlapping activities** and maintaining a well-structured, balanced routine.\n",
    "\n",
    " User's Current Schedule (Needs Optimization)\n",
    "{response_llama_2}\n",
    "\n",
    "Optimization Instructions\n",
    "\n",
    "    Make sure there are at least 6 hours for sleep every day. \n",
    "    Ensure **no overlapping activities**. Each activity must have a distinct time slot.\n",
    "    Maintain a 24-hour schedule. The schedule must not exceed **24 hours**.\n",
    "    Preserve all activities, adjusting their order and duration as needed.\n",
    "    Keep essential activities intact (Sleep, meals, work) and ensure their placement makes sense.\n",
    "    Optimize gaps. Fill any long periods of inactivity with relevant activities.\n",
    "    Sort events chronologically from 12:00 AM to 11:59 PM.\n",
    "    Do not modify activity names, only adjust their time slots.\n",
    "    Do not include duplicates—each activity should only appear once per day.\n",
    "    Ensure the total schedule time sums up correctly (no missing time slots or overlaps).\n",
    "\n",
    "Do not include explanations, introductions, or additional text.\n",
    "\n",
    "\n",
    "\n",
    "\"\"\""
   ]
  },
  {
   "cell_type": "code",
   "execution_count": 676,
   "id": "77567ffe-bca9-4912-b00f-f44f42f52597",
   "metadata": {},
   "outputs": [],
   "source": [
    "# Format the prompt by injecting variables\n",
    "formatted_prompt = extract_prompt_template.format(\n",
    "    response_llama_2=response_llama_2\n",
    "    \n",
    ")\n",
    "\n",
    "response_llama_3 = llm.invoke(response_llama_3)"
   ]
  },
  {
   "cell_type": "code",
   "execution_count": 677,
   "id": "cab362b4-4ed7-41d5-bfc5-936aca56fe72",
   "metadata": {},
   "outputs": [
    {
     "name": "stdout",
     "output_type": "stream",
     "text": [
      "```json\n",
      "12:00 AM - 06:45 AM: Twinkle star\n",
      "06:45 AM - 07:15 AM: Sleep\n",
      "07:15 AM - 08:00 AM: Wake Up\n",
      "08:00 AM - 09:30 AM: Eat\n",
      "08:00 AM - 10:00 AM: Meditation\n",
      "08:15 AM - 11:15 AM: Worship and Prayer\n",
      "08:45 AM - 10:15 AM: YSS Books\n",
      "09:30 AM - 12:30 PM: Startup Work\n",
      "10:00 AM - 11:00 AM: Flow\n",
      "11:00 AM - 12:00 PM: Eat Greens\n",
      "12:00 PM - 01:00 PM: Jammin'\n",
      "12:45 PM - 02:15 PM: Blinkist\n",
      "01:15 PM - 03:30 PM: Patent Work\n",
      "03:30 PM - 05:00 PM: Meeting\n",
      "05:00 PM - 06:30 PM: Healthy Eats\n",
      "06:00 PM - 08:00 PM: Play\n",
      "07:00 PM - 09:00 PM: Gratitude\n",
      "07:30 PM - 08:45 PM: Dinner\n",
      "08:45 PM - 12:15 AM: Work and Meetings\n",
      "```\n"
     ]
    }
   ],
   "source": [
    "try: \n",
    "    response_llama_3 = json.loads(response_llama_3) \n",
    "    print(\"Optimized Schedule:\", response_llama_3) \n",
    "except json.JSONDecodeError: \n",
    "    print(response_llama_3)"
   ]
  },
  {
   "cell_type": "code",
   "execution_count": null,
   "id": "232a2407-bfa5-4e39-bf49-763beeb265b9",
   "metadata": {},
   "outputs": [],
   "source": [
    "#figure out cost analysis for llama/chatgpt/otherAI\n",
    "#"
   ]
  }
 ],
 "metadata": {
  "kernelspec": {
   "display_name": "Python 3 (ipykernel)",
   "language": "python",
   "name": "python3"
  },
  "language_info": {
   "codemirror_mode": {
    "name": "ipython",
    "version": 3
   },
   "file_extension": ".py",
   "mimetype": "text/x-python",
   "name": "python",
   "nbconvert_exporter": "python",
   "pygments_lexer": "ipython3",
   "version": "3.12.4"
  }
 },
 "nbformat": 4,
 "nbformat_minor": 5
}
